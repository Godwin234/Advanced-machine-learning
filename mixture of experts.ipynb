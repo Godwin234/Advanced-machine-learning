{
 "cells": [
  {
   "cell_type": "code",
   "execution_count": 1,
   "metadata": {},
   "outputs": [],
   "source": [
    "import numpy as np\n"
   ]
  },
  {
   "cell_type": "code",
   "execution_count": 2,
   "metadata": {},
   "outputs": [],
   "source": [
    "x_train = np.array([[1,1],[1,2],[1,3],[1,4]])\n",
    "y_train = np.array([[1],[2],[6],[5]])\n",
    "q_c = np.array([0.5,0.5,0.5,0.5])\n",
    "siq = 1\n",
    "yc_1 = np.array([-1,2])\n",
    "yc_2 = np.array([1,-2])\n",
    "yc = np.array([[[-1,2]],[[1,-2]]])\n",
    "beta = np.array([[0,0]])"
   ]
  },
  {
   "cell_type": "markdown",
   "metadata": {},
   "source": [
    "# mixture of experts using the dummy datasets above"
   ]
  },
  {
   "cell_type": "code",
   "execution_count": 3,
   "metadata": {},
   "outputs": [],
   "source": [
    "def p_y_xc(target,betas, data,sigma,):\n",
    "    top = np.exp((np.subtract(target, np.dot(data,np.transpose(betas))))**2)\n",
    "    top = -(top / (2 * (sigma**2)))\n",
    "    bottom = np.sqrt(2*3.14*(sigma**2))\n",
    "    final = top/bottom\n",
    "    return final\n",
    "\n",
    "def s_c_x(step,data,):\n",
    "    cont = []\n",
    "    for i in range(len(step)):\n",
    "        top = np.exp(np.dot(data,np.transpose(step[i])))\n",
    "        bottom1 = np.exp(np.dot(data,np.transpose(step[i]))) \n",
    "        if i == 0:\n",
    "            bottom2 = np.exp(np.dot(data,np.transpose(step[1])))\n",
    "        elif i == 1 :\n",
    "            bottom2 = np.exp(np.dot(data,np.transpose(step[0])))\n",
    "        bottom = bottom1+bottom2\n",
    "        final = top/bottom\n",
    "        cont.append(final)\n",
    "    a = cont[0].flatten().tolist()\n",
    "    b = cont[1].flatten().tolist()\n",
    "    s = np.array([a,b])\n",
    "    s = s.reshape(2,4).transpose()\n",
    "    return s\n",
    "\n",
    "def stepc(data,qc,s_c):\n",
    "    delta_yc = np.dot(np.transpose(data), (qc - s_c))\n",
    "    return delta_yc\n",
    "        \n",
    "\n",
    "def beta_c(data, qc,target):\n",
    "    top = np.dot(np.dot(data.transpose(),np.diag(qc)),target)\n",
    "    bottom = np.dot(np.dot(data.transpose(),np.diag(qc)),data)\n",
    "    betanew =np.dot(np.linalg.inv(bottom),top).reshape(1,2)\n",
    "    return betanew\n",
    "\n",
    "def qn_c(data,step,sigma,betas,target):\n",
    "    cont = []\n",
    "    for i in range(len(step)):\n",
    "        yy = np.subtract(target, np.dot(data,np.transpose(betas)))**2\n",
    "        top = np.exp(np.dot(data,step[i].transpose()) - ((1/(2* (sigma**2))) * yy))\n",
    "        bottom1 = np.exp(np.dot(data,step[i].transpose()) - (1/(2* (sigma**2))) * yy)\n",
    "        if i == 0:\n",
    "            bottom2 = np.exp(np.dot(data,step[i].transpose()) - (1/(2* (sigma**2))) * yy)\n",
    "        elif i == 1 :\n",
    "            bottom2 = np.exp(np.dot(data,step[i].transpose()) - (1/(2* (sigma**2))) * yy)\n",
    "        bottom = bottom1+bottom2\n",
    "        final = top/bottom\n",
    "        cont.append(final)\n",
    "    a = cont[0].flatten().tolist()\n",
    "    b = cont[1].flatten().tolist()\n",
    "    s = np.array([a,b])\n",
    "    s = s.reshape(2,4).transpose()\n",
    "    return s"
   ]
  },
  {
   "cell_type": "code",
   "execution_count": 4,
   "metadata": {},
   "outputs": [],
   "source": [
    "def mix_experts(data,target,sigma,step,betas,qc):\n",
    "    softmax_gate = s_c_x(step,data,)\n",
    "    print(\"softmax gating function for each model is\\n {}\".format(softmax_gate))\n",
    "    \n",
    "    minimized_yc = stepc(data,qc.reshape(4,1),softmax_gate)\n",
    "    print(\"the minimized loss with respect to the step lenght for each model, optimal y_c =\\n {}\".format(minimized_yc))\n",
    "    \n",
    "    new_beta = beta_c(data, qc,target)\n",
    "    print(\"for the first iteration both models have same betas which is beta_c:\\n {}\".format(new_beta))\n",
    "    \n",
    "    weights_q = qn_c(data,step,sigma,new_beta,target)\n",
    "    print(\"the optimal value of weight qn_c for each model are \\n{}\".format(weights_q))\n",
    "    \n",
    "    return(new_beta)\n",
    "    "
   ]
  },
  {
   "cell_type": "markdown",
   "metadata": {},
   "source": [
    "\n",
    "# Since each model c is an expert in some region of predictor space, defined by its componet weight (gating function), the gating fuction serves the purpose of combining the predictions of each experts to generate an aggregated prediction of the mixture model."
   ]
  },
  {
   "cell_type": "markdown",
   "metadata": {},
   "source": [
    "# Results"
   ]
  },
  {
   "cell_type": "code",
   "execution_count": 5,
   "metadata": {},
   "outputs": [
    {
     "name": "stdout",
     "output_type": "stream",
     "text": [
      "softmax gating function for each model is\n",
      " [[8.80797078e-01 1.19202922e-01]\n",
      " [9.97527377e-01 2.47262316e-03]\n",
      " [9.99954602e-01 4.53978687e-05]\n",
      " [9.99999168e-01 8.31528028e-07]]\n",
      "the minimized loss with respect to the step lenght for each model, optimal y_c =\n",
      " [[-1.87827823  1.87827823]\n",
      " [-4.87571231  4.87571231]]\n",
      "for the first iteration both models have same betas which is beta_c:\n",
      " [[-0.5  1.6]]\n",
      "the optimal value of weight qn_c for each model are \n",
      "[[0.5 0.5]\n",
      " [0.5 0.5]\n",
      " [0.5 0.5]\n",
      " [0.5 0.5]]\n"
     ]
    }
   ],
   "source": [
    "model = mix_experts(x_train,y_train,siq,yc,beta,q_c)"
   ]
  },
  {
   "cell_type": "markdown",
   "metadata": {},
   "source": [
    "# predictions"
   ]
  },
  {
   "cell_type": "code",
   "execution_count": 6,
   "metadata": {},
   "outputs": [
    {
     "data": {
      "text/plain": [
       "array([3.5])"
      ]
     },
     "execution_count": 6,
     "metadata": {},
     "output_type": "execute_result"
    }
   ],
   "source": [
    "prediction = np.dot([1,2.5],model.transpose())\n",
    "prediction"
   ]
  },
  {
   "cell_type": "code",
   "execution_count": null,
   "metadata": {},
   "outputs": [],
   "source": []
  }
 ],
 "metadata": {
  "kernelspec": {
   "display_name": "Python 3",
   "language": "python",
   "name": "python3"
  },
  "language_info": {
   "codemirror_mode": {
    "name": "ipython",
    "version": 3
   },
   "file_extension": ".py",
   "mimetype": "text/x-python",
   "name": "python",
   "nbconvert_exporter": "python",
   "pygments_lexer": "ipython3",
   "version": "3.6.10"
  }
 },
 "nbformat": 4,
 "nbformat_minor": 4
}
