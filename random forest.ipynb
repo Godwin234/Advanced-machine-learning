{
 "cells": [
  {
   "cell_type": "markdown",
   "metadata": {},
   "source": [
    "# Random forest"
   ]
  },
  {
   "cell_type": "code",
   "execution_count": 1,
   "metadata": {},
   "outputs": [],
   "source": [
    "import numpy as np\n",
    "import pandas as pd\n",
    "import operator as op"
   ]
  },
  {
   "cell_type": "code",
   "execution_count": 2,
   "metadata": {},
   "outputs": [
    {
     "data": {
      "text/plain": [
       "2"
      ]
     },
     "execution_count": 2,
     "metadata": {},
     "output_type": "execute_result"
    }
   ],
   "source": [
    "x_train = np.array([[1,1,1],[1,1,0],[0,1,1],[0,0,0]])\n",
    "y_train = np.array([1,1,0,0])\n",
    "x_test = np.array([[1,0,1],[0,1,0]])\n",
    "y_train[[0,2]]\n",
    "len(x_test)"
   ]
  },
  {
   "cell_type": "code",
   "execution_count": 3,
   "metadata": {},
   "outputs": [],
   "source": [
    "class Random_forest :\n",
    "    def __init__(self):\n",
    "        self.is_leaf = False\n",
    "        self.stumps = [[[0,2],[0,2]],[[1,3],[0,1]],[[0,3],[1,2]]]\n",
    "        #self.stump_2 = [[1,3],[0,1]]\n",
    "        #self.stump_3 = [[0,4],[1,3]]\n",
    "        \n",
    "    def __call__(self , x_data):\n",
    "        if self.is_leaf :\n",
    "            result = self.output_class \n",
    "            return result\n",
    "        else :\n",
    "            cont_out = np.empty(len(x_data))\n",
    "            cont_out.fill(np.nan)\n",
    "            div = self.rule(x_data)\n",
    "            cont_out[div] = self.left(x_data[div])          \n",
    "            cont_out[op.invert(div)] = self.right(x_data[op.invert(div)])\n",
    "        return cont_out\n",
    "    \n",
    "    def split_rule (self,col , row):\n",
    "        rule = lambda ru: ru[:,col] < row\n",
    "        return rule\n",
    "    \n",
    "    def separate_stump(self,stump,x_data,y_data):\n",
    "        x_data1 = x_data[stump[0],:][:,stump[1]]\n",
    "        y_data1 = y_data[stump[0]]\n",
    "        return x_data1,y_data1\n",
    "    \n",
    "    def stop(self,X, Y):\n",
    "        if len(Y) <= 1 or len(np.unique(Y)) <= 1:\n",
    "            return True\n",
    "        \n",
    "        return False\n",
    "    \n",
    "    def fit_bagging(self, x_data,y_data):\n",
    "        self.trees = {}\n",
    "        for i,stump in zip(range(len(self.stumps)), self.stumps):\n",
    "            self.trees[\"self.tree{}\".format(i)] = self.spliter(self.separate_stump(stump,x_data,y_data)[0],\n",
    "                                                        self.separate_stump(stump,x_data,y_data)[1])\n",
    "        print(\"The trained trees {}\".format(self.trees))\n",
    "        return self\n",
    "        \n",
    "    def predict_bags(self,test):\n",
    "        pred = []\n",
    "        for i in range(3):\n",
    "            prediction = self.trees[\"self.tree{}\".format(i)](test)\n",
    "            pred.append(prediction)\n",
    "            print(\"prediction for stump {}, tree{}: {}\".format(i+1,i, prediction))\n",
    "        res1 = []\n",
    "        res2 = []\n",
    "        for i in pred:\n",
    "            res1.append(i[0])\n",
    "            res2.append(i[1])\n",
    "        res11 = max(set(res1),key = res1.count)\n",
    "        res22 = max(set(res2),key = res1.count)\n",
    "        result = np.array([res11,res22]).astype(\"int32\")\n",
    "        return result\n",
    "    \n",
    "    def spliter (self , x_data, y_data):\n",
    "        if self.stop(x_data, y_data):\n",
    "            self.is_leaf = True\n",
    "            unique_classes = np.unique(y_data)\n",
    "            _, counter = np.unique(y_data, return_counts = True )\n",
    "            mode = unique_classes[np.argmax(counter)]\n",
    "            self.output_class = mode\n",
    "            return self\n",
    "        rowss, columns = x_data. shape\n",
    "        outcome_ = np.empty([rowss, columns])\n",
    "        outcome_.fill(np.nan)\n",
    "        for ro in range (rowss): \n",
    "            for co in range (columns):\n",
    "                s_num = x_data[:, co] < x_data[ro, co]\n",
    "                outcome_[ro, co] = self.condition_split(s_num , x_data)\n",
    "        \n",
    "        ro,co = np.unravel_index(np. argmax (outcome_, axis = None ), outcome_.shape )\n",
    "        self.rule =self.split_rule (co, x_data[ro,co])\n",
    "        s_num =self.rule(x_data)\n",
    "        self.left = Random_forest().spliter(x_data[s_num], y_data[s_num])\n",
    "        self.right = Random_forest().spliter(x_data[op.invert(s_num)], y_data[op.invert(s_num)])\n",
    "        self.is_leaf = False\n",
    "        return self\n",
    "    \n",
    "    \n",
    "    def condition_split(self,split_num, y_data):\n",
    "        if sum(split_num) in {0, len(y_data)}:\n",
    "            return 0 \n",
    "        unique_classes = np.unique(y_data)\n",
    "        cont = np.empty([2 , len(unique_classes)])\n",
    "        cont.fill(np.nan)\n",
    "        for i, js in enumerate(unique_classes):\n",
    "            cont[0, i] = np.sum(y_data[split_num]== js)\n",
    "            cont[1, i] = np.sum(y_data[op.invert(split_num)]== js)\n",
    "        r_sum = np.sum(cont, axis =1)\n",
    "        rr_sum = np.sum(cont, axis =0)\n",
    "        _sum = np.sum(cont)\n",
    "        first = -np.sum(np.divide(rr_sum,_sum)**2)\n",
    "        second = +np.sum(np.divide(r_sum,_sum)*np.sum(np.divide(cont,r_sum[:,None])**2 , axis =1) )\n",
    "        final = np.add(first,second)\n",
    "        return final\n",
    "     \n",
    "        "
   ]
  },
  {
   "cell_type": "code",
   "execution_count": 4,
   "metadata": {},
   "outputs": [
    {
     "name": "stdout",
     "output_type": "stream",
     "text": [
      "The trained trees {'self.tree0': <__main__.Random_forest object at 0x0000021391741F88>, 'self.tree1': <__main__.Random_forest object at 0x0000021391741F88>, 'self.tree2': <__main__.Random_forest object at 0x0000021391741F88>}\n",
      "prediction for stump 1, tree0: [1. 0.]\n",
      "prediction for stump 2, tree1: [1. 0.]\n",
      "prediction for stump 3, tree2: [1. 0.]\n",
      "The Random forest prediction for row 5 is '1' while the prediction for row 6 is '0'\n"
     ]
    }
   ],
   "source": [
    "model = Random_forest()\n",
    "model.fit_bagging(x_train , y_train )\n",
    "prediction = model.predict_bags(x_test)\n",
    "print(\"The Random forest prediction for row 5 is '{}' while the prediction for row 6 is '{}'\".format(prediction[0],prediction[1]))"
   ]
  }
 ],
 "metadata": {
  "kernelspec": {
   "display_name": "Python 3",
   "language": "python",
   "name": "python3"
  },
  "language_info": {
   "codemirror_mode": {
    "name": "ipython",
    "version": 3
   },
   "file_extension": ".py",
   "mimetype": "text/x-python",
   "name": "python",
   "nbconvert_exporter": "python",
   "pygments_lexer": "ipython3",
   "version": "3.6.10"
  }
 },
 "nbformat": 4,
 "nbformat_minor": 4
}
